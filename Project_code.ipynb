{
  "nbformat": 4,
  "nbformat_minor": 0,
  "metadata": {
    "colab": {
      "name": "Project code",
      "provenance": [],
      "collapsed_sections": [],
      "authorship_tag": "ABX9TyPyny9JZcZ+bi1IOH98AdWc",
      "include_colab_link": true
    },
    "kernelspec": {
      "name": "python3",
      "display_name": "Python 3"
    },
    "language_info": {
      "name": "python"
    }
  },
  "cells": [
    {
      "cell_type": "markdown",
      "metadata": {
        "id": "view-in-github",
        "colab_type": "text"
      },
      "source": [
        "<a href=\"https://colab.research.google.com/github/lewisbmensa/Convolutional-Neural-Net/blob/main/Project_code.ipynb\" target=\"_parent\"><img src=\"https://colab.research.google.com/assets/colab-badge.svg\" alt=\"Open In Colab\"/></a>"
      ]
    },
    {
      "cell_type": "code",
      "metadata": {
        "id": "jrIxf94b6jGx"
      },
      "source": [
        "import numpy as np\n",
        "import pandas as pd\n",
        "import io\n",
        "from scipy import spatial\n",
        "from sklearn.preprocessing import StandardScaler as SS\n",
        "from sklearn.decomposition import PCA\n",
        "from sklearn.cluster import KMeans\n",
        "%matplotlib inline\n",
        "import matplotlib.pyplot as plt\n",
        "import matplotlib.image as mpimg\n",
        "\n",
        "\n"
      ],
      "execution_count": 43,
      "outputs": []
    },
    {
      "cell_type": "markdown",
      "metadata": {
        "id": "boUZjkIkxq85"
      },
      "source": [
        "# **Preprocessing **\n",
        "\n",
        "To work with the data, it first needs to be preprocessed. This includes filling in missing values and dropping any duplicate columns."
      ]
    },
    {
      "cell_type": "code",
      "metadata": {
        "colab": {
          "resources": {
            "http://localhost:8080/nbextensions/google.colab/files.js": {
              "data": "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",
              "ok": true,
              "headers": [
                [
                  "content-type",
                  "application/javascript"
                ]
              ],
              "status": 200,
              "status_text": ""
            }
          },
          "base_uri": "https://localhost:8080/",
          "height": 73
        },
        "id": "4WYbMv4660ey",
        "outputId": "07eba2b7-b1b6-4949-b961-f752082874d8"
      },
      "source": [
        "from google.colab import files\n",
        "uploaded = files.upload()"
      ],
      "execution_count": 44,
      "outputs": [
        {
          "output_type": "display_data",
          "data": {
            "text/html": [
              "\n",
              "     <input type=\"file\" id=\"files-6b891fb4-bc43-49c2-b8b5-b1c4af47d2c0\" name=\"files[]\" multiple disabled\n",
              "        style=\"border:none\" />\n",
              "     <output id=\"result-6b891fb4-bc43-49c2-b8b5-b1c4af47d2c0\">\n",
              "      Upload widget is only available when the cell has been executed in the\n",
              "      current browser session. Please rerun this cell to enable.\n",
              "      </output>\n",
              "      <script src=\"/nbextensions/google.colab/files.js\"></script> "
            ],
            "text/plain": [
              "<IPython.core.display.HTML object>"
            ]
          },
          "metadata": {
            "tags": []
          }
        },
        {
          "output_type": "stream",
          "text": [
            "Saving data.xlsx to data (1).xlsx\n"
          ],
          "name": "stdout"
        }
      ]
    },
    {
      "cell_type": "code",
      "metadata": {
        "colab": {
          "base_uri": "https://localhost:8080/",
          "height": 322
        },
        "id": "hcm1dy7S7XYl",
        "outputId": "9e3008f2-eb55-48f4-f61a-067fa8081819"
      },
      "source": [
        "df = 'Sheet4'\n",
        "\n",
        "df = pd.read_excel(io.BytesIO(uploaded['data.xlsx']),df)\n",
        "\n",
        "df.head()"
      ],
      "execution_count": 45,
      "outputs": [
        {
          "output_type": "execute_result",
          "data": {
            "text/html": [
              "<div>\n",
              "<style scoped>\n",
              "    .dataframe tbody tr th:only-of-type {\n",
              "        vertical-align: middle;\n",
              "    }\n",
              "\n",
              "    .dataframe tbody tr th {\n",
              "        vertical-align: top;\n",
              "    }\n",
              "\n",
              "    .dataframe thead th {\n",
              "        text-align: right;\n",
              "    }\n",
              "</style>\n",
              "<table border=\"1\" class=\"dataframe\">\n",
              "  <thead>\n",
              "    <tr style=\"text-align: right;\">\n",
              "      <th></th>\n",
              "      <th>player</th>\n",
              "      <th>Column1</th>\n",
              "      <th>position key</th>\n",
              "      <th>Apps</th>\n",
              "      <th>Mins</th>\n",
              "      <th>Goals</th>\n",
              "      <th>Assists</th>\n",
              "      <th>SpG</th>\n",
              "      <th>KeyP</th>\n",
              "      <th>Drb</th>\n",
              "      <th>Fouled</th>\n",
              "      <th>Off</th>\n",
              "      <th>Disp</th>\n",
              "      <th>UnsTch</th>\n",
              "      <th>GP90</th>\n",
              "      <th>AP90</th>\n",
              "      <th>Tackles</th>\n",
              "      <th>Inter</th>\n",
              "      <th>Fouls</th>\n",
              "      <th>Offsides</th>\n",
              "      <th>Clear</th>\n",
              "      <th>Drb2</th>\n",
              "      <th>Blocks</th>\n",
              "      <th>OwnG</th>\n",
              "      <th>KeyP3</th>\n",
              "      <th>AvgP</th>\n",
              "      <th>PS%</th>\n",
              "      <th>Crosses</th>\n",
              "      <th>LongB</th>\n",
              "    </tr>\n",
              "  </thead>\n",
              "  <tbody>\n",
              "    <tr>\n",
              "      <th>0</th>\n",
              "      <td>Harry Kane</td>\n",
              "      <td>fw</td>\n",
              "      <td>1</td>\n",
              "      <td>35</td>\n",
              "      <td>3087</td>\n",
              "      <td>23</td>\n",
              "      <td>14</td>\n",
              "      <td>3.9</td>\n",
              "      <td>1.4</td>\n",
              "      <td>1.5</td>\n",
              "      <td>1.7</td>\n",
              "      <td>0.4</td>\n",
              "      <td>1.5</td>\n",
              "      <td>1.8</td>\n",
              "      <td>0.670554</td>\n",
              "      <td>0.408163</td>\n",
              "      <td>0.6</td>\n",
              "      <td>0.3</td>\n",
              "      <td>0.7</td>\n",
              "      <td>-</td>\n",
              "      <td>1.1</td>\n",
              "      <td>0.5</td>\n",
              "      <td>0.3</td>\n",
              "      <td>-</td>\n",
              "      <td>1.4</td>\n",
              "      <td>25.9</td>\n",
              "      <td>69.9</td>\n",
              "      <td>0.2</td>\n",
              "      <td>1.9</td>\n",
              "    </tr>\n",
              "    <tr>\n",
              "      <th>1</th>\n",
              "      <td>Kevin De Bruyne</td>\n",
              "      <td>fw</td>\n",
              "      <td>1</td>\n",
              "      <td>23(2)</td>\n",
              "      <td>2001</td>\n",
              "      <td>6</td>\n",
              "      <td>12</td>\n",
              "      <td>3.2</td>\n",
              "      <td>3.2</td>\n",
              "      <td>1.9</td>\n",
              "      <td>1.2</td>\n",
              "      <td>-</td>\n",
              "      <td>1.3</td>\n",
              "      <td>1.8</td>\n",
              "      <td>0.269865</td>\n",
              "      <td>0.269865</td>\n",
              "      <td>1.4</td>\n",
              "      <td>0.4</td>\n",
              "      <td>1.1</td>\n",
              "      <td>-</td>\n",
              "      <td>0.3</td>\n",
              "      <td>1.4</td>\n",
              "      <td>-</td>\n",
              "      <td>-</td>\n",
              "      <td>3.2</td>\n",
              "      <td>50.6</td>\n",
              "      <td>81.7</td>\n",
              "      <td>1.6</td>\n",
              "      <td>2.6</td>\n",
              "    </tr>\n",
              "    <tr>\n",
              "      <th>2</th>\n",
              "      <td>Jack Grealish</td>\n",
              "      <td>m</td>\n",
              "      <td>4</td>\n",
              "      <td>24(2)</td>\n",
              "      <td>2184</td>\n",
              "      <td>6</td>\n",
              "      <td>10</td>\n",
              "      <td>1.9</td>\n",
              "      <td>3.1</td>\n",
              "      <td>2.5</td>\n",
              "      <td>4.2</td>\n",
              "      <td>0.3</td>\n",
              "      <td>1.5</td>\n",
              "      <td>2.1</td>\n",
              "      <td>0.247253</td>\n",
              "      <td>0.247253</td>\n",
              "      <td>1.2</td>\n",
              "      <td>0.5</td>\n",
              "      <td>1.5</td>\n",
              "      <td>-</td>\n",
              "      <td>0.2</td>\n",
              "      <td>0.3</td>\n",
              "      <td>0.1</td>\n",
              "      <td>-</td>\n",
              "      <td>3.1</td>\n",
              "      <td>38.3</td>\n",
              "      <td>83.3</td>\n",
              "      <td>0.7</td>\n",
              "      <td>1.2</td>\n",
              "    </tr>\n",
              "    <tr>\n",
              "      <th>3</th>\n",
              "      <td>Bruno Fernandes</td>\n",
              "      <td>m</td>\n",
              "      <td>4</td>\n",
              "      <td>35(2)</td>\n",
              "      <td>3110</td>\n",
              "      <td>18</td>\n",
              "      <td>12</td>\n",
              "      <td>3.3</td>\n",
              "      <td>2.6</td>\n",
              "      <td>0.6</td>\n",
              "      <td>1.4</td>\n",
              "      <td>0.1</td>\n",
              "      <td>1</td>\n",
              "      <td>1.5</td>\n",
              "      <td>0.520900</td>\n",
              "      <td>0.520900</td>\n",
              "      <td>1.5</td>\n",
              "      <td>0.7</td>\n",
              "      <td>1.2</td>\n",
              "      <td>-</td>\n",
              "      <td>0.7</td>\n",
              "      <td>2</td>\n",
              "      <td>-</td>\n",
              "      <td>-</td>\n",
              "      <td>2.6</td>\n",
              "      <td>57.1</td>\n",
              "      <td>78.3</td>\n",
              "      <td>1.1</td>\n",
              "      <td>3.8</td>\n",
              "    </tr>\n",
              "    <tr>\n",
              "      <th>4</th>\n",
              "      <td>Tomas Soucek</td>\n",
              "      <td>m</td>\n",
              "      <td>4</td>\n",
              "      <td>38</td>\n",
              "      <td>3420</td>\n",
              "      <td>10</td>\n",
              "      <td>1</td>\n",
              "      <td>1.7</td>\n",
              "      <td>0.5</td>\n",
              "      <td>0.4</td>\n",
              "      <td>1.1</td>\n",
              "      <td>0.1</td>\n",
              "      <td>0.6</td>\n",
              "      <td>1.1</td>\n",
              "      <td>0.263158</td>\n",
              "      <td>0.263158</td>\n",
              "      <td>2.1</td>\n",
              "      <td>1.6</td>\n",
              "      <td>1.8</td>\n",
              "      <td>0.1</td>\n",
              "      <td>2.7</td>\n",
              "      <td>1.3</td>\n",
              "      <td>0.5</td>\n",
              "      <td>1</td>\n",
              "      <td>0.5</td>\n",
              "      <td>42.3</td>\n",
              "      <td>75.5</td>\n",
              "      <td>-</td>\n",
              "      <td>2.2</td>\n",
              "    </tr>\n",
              "  </tbody>\n",
              "</table>\n",
              "</div>"
            ],
            "text/plain": [
              "            player Column1  position key   Apps  ...  AvgP   PS% Crosses LongB\n",
              "0       Harry Kane      fw             1     35  ...  25.9  69.9     0.2   1.9\n",
              "1  Kevin De Bruyne      fw             1  23(2)  ...  50.6  81.7     1.6   2.6\n",
              "2    Jack Grealish       m             4  24(2)  ...  38.3  83.3     0.7   1.2\n",
              "3  Bruno Fernandes       m             4  35(2)  ...  57.1  78.3     1.1   3.8\n",
              "4     Tomas Soucek       m             4     38  ...  42.3  75.5       -   2.2\n",
              "\n",
              "[5 rows x 29 columns]"
            ]
          },
          "metadata": {
            "tags": []
          },
          "execution_count": 45
        }
      ]
    },
    {
      "cell_type": "code",
      "metadata": {
        "colab": {
          "base_uri": "https://localhost:8080/",
          "height": 322
        },
        "id": "tZRhGNNe9X3R",
        "outputId": "55b2dd3b-3680-485b-872e-be0efa2b5989"
      },
      "source": [
        "df= df.drop('KeyP3',axis =1) # This column is a duplicate row\n",
        "\n",
        "\n",
        "df = df.rename(columns={'Drb2' :'DrbP'}) # renaming the column \n",
        "\n",
        "df = df.rename(columns={'Column1': 'Position'}) # renaming the column\n",
        "\n",
        "df.head()"
      ],
      "execution_count": 46,
      "outputs": [
        {
          "output_type": "execute_result",
          "data": {
            "text/html": [
              "<div>\n",
              "<style scoped>\n",
              "    .dataframe tbody tr th:only-of-type {\n",
              "        vertical-align: middle;\n",
              "    }\n",
              "\n",
              "    .dataframe tbody tr th {\n",
              "        vertical-align: top;\n",
              "    }\n",
              "\n",
              "    .dataframe thead th {\n",
              "        text-align: right;\n",
              "    }\n",
              "</style>\n",
              "<table border=\"1\" class=\"dataframe\">\n",
              "  <thead>\n",
              "    <tr style=\"text-align: right;\">\n",
              "      <th></th>\n",
              "      <th>player</th>\n",
              "      <th>Position</th>\n",
              "      <th>position key</th>\n",
              "      <th>Apps</th>\n",
              "      <th>Mins</th>\n",
              "      <th>Goals</th>\n",
              "      <th>Assists</th>\n",
              "      <th>SpG</th>\n",
              "      <th>KeyP</th>\n",
              "      <th>Drb</th>\n",
              "      <th>Fouled</th>\n",
              "      <th>Off</th>\n",
              "      <th>Disp</th>\n",
              "      <th>UnsTch</th>\n",
              "      <th>GP90</th>\n",
              "      <th>AP90</th>\n",
              "      <th>Tackles</th>\n",
              "      <th>Inter</th>\n",
              "      <th>Fouls</th>\n",
              "      <th>Offsides</th>\n",
              "      <th>Clear</th>\n",
              "      <th>DrbP</th>\n",
              "      <th>Blocks</th>\n",
              "      <th>OwnG</th>\n",
              "      <th>AvgP</th>\n",
              "      <th>PS%</th>\n",
              "      <th>Crosses</th>\n",
              "      <th>LongB</th>\n",
              "    </tr>\n",
              "  </thead>\n",
              "  <tbody>\n",
              "    <tr>\n",
              "      <th>0</th>\n",
              "      <td>Harry Kane</td>\n",
              "      <td>fw</td>\n",
              "      <td>1</td>\n",
              "      <td>35</td>\n",
              "      <td>3087</td>\n",
              "      <td>23</td>\n",
              "      <td>14</td>\n",
              "      <td>3.9</td>\n",
              "      <td>1.4</td>\n",
              "      <td>1.5</td>\n",
              "      <td>1.7</td>\n",
              "      <td>0.4</td>\n",
              "      <td>1.5</td>\n",
              "      <td>1.8</td>\n",
              "      <td>0.670554</td>\n",
              "      <td>0.408163</td>\n",
              "      <td>0.6</td>\n",
              "      <td>0.3</td>\n",
              "      <td>0.7</td>\n",
              "      <td>-</td>\n",
              "      <td>1.1</td>\n",
              "      <td>0.5</td>\n",
              "      <td>0.3</td>\n",
              "      <td>-</td>\n",
              "      <td>25.9</td>\n",
              "      <td>69.9</td>\n",
              "      <td>0.2</td>\n",
              "      <td>1.9</td>\n",
              "    </tr>\n",
              "    <tr>\n",
              "      <th>1</th>\n",
              "      <td>Kevin De Bruyne</td>\n",
              "      <td>fw</td>\n",
              "      <td>1</td>\n",
              "      <td>23(2)</td>\n",
              "      <td>2001</td>\n",
              "      <td>6</td>\n",
              "      <td>12</td>\n",
              "      <td>3.2</td>\n",
              "      <td>3.2</td>\n",
              "      <td>1.9</td>\n",
              "      <td>1.2</td>\n",
              "      <td>-</td>\n",
              "      <td>1.3</td>\n",
              "      <td>1.8</td>\n",
              "      <td>0.269865</td>\n",
              "      <td>0.269865</td>\n",
              "      <td>1.4</td>\n",
              "      <td>0.4</td>\n",
              "      <td>1.1</td>\n",
              "      <td>-</td>\n",
              "      <td>0.3</td>\n",
              "      <td>1.4</td>\n",
              "      <td>-</td>\n",
              "      <td>-</td>\n",
              "      <td>50.6</td>\n",
              "      <td>81.7</td>\n",
              "      <td>1.6</td>\n",
              "      <td>2.6</td>\n",
              "    </tr>\n",
              "    <tr>\n",
              "      <th>2</th>\n",
              "      <td>Jack Grealish</td>\n",
              "      <td>m</td>\n",
              "      <td>4</td>\n",
              "      <td>24(2)</td>\n",
              "      <td>2184</td>\n",
              "      <td>6</td>\n",
              "      <td>10</td>\n",
              "      <td>1.9</td>\n",
              "      <td>3.1</td>\n",
              "      <td>2.5</td>\n",
              "      <td>4.2</td>\n",
              "      <td>0.3</td>\n",
              "      <td>1.5</td>\n",
              "      <td>2.1</td>\n",
              "      <td>0.247253</td>\n",
              "      <td>0.247253</td>\n",
              "      <td>1.2</td>\n",
              "      <td>0.5</td>\n",
              "      <td>1.5</td>\n",
              "      <td>-</td>\n",
              "      <td>0.2</td>\n",
              "      <td>0.3</td>\n",
              "      <td>0.1</td>\n",
              "      <td>-</td>\n",
              "      <td>38.3</td>\n",
              "      <td>83.3</td>\n",
              "      <td>0.7</td>\n",
              "      <td>1.2</td>\n",
              "    </tr>\n",
              "    <tr>\n",
              "      <th>3</th>\n",
              "      <td>Bruno Fernandes</td>\n",
              "      <td>m</td>\n",
              "      <td>4</td>\n",
              "      <td>35(2)</td>\n",
              "      <td>3110</td>\n",
              "      <td>18</td>\n",
              "      <td>12</td>\n",
              "      <td>3.3</td>\n",
              "      <td>2.6</td>\n",
              "      <td>0.6</td>\n",
              "      <td>1.4</td>\n",
              "      <td>0.1</td>\n",
              "      <td>1</td>\n",
              "      <td>1.5</td>\n",
              "      <td>0.520900</td>\n",
              "      <td>0.520900</td>\n",
              "      <td>1.5</td>\n",
              "      <td>0.7</td>\n",
              "      <td>1.2</td>\n",
              "      <td>-</td>\n",
              "      <td>0.7</td>\n",
              "      <td>2</td>\n",
              "      <td>-</td>\n",
              "      <td>-</td>\n",
              "      <td>57.1</td>\n",
              "      <td>78.3</td>\n",
              "      <td>1.1</td>\n",
              "      <td>3.8</td>\n",
              "    </tr>\n",
              "    <tr>\n",
              "      <th>4</th>\n",
              "      <td>Tomas Soucek</td>\n",
              "      <td>m</td>\n",
              "      <td>4</td>\n",
              "      <td>38</td>\n",
              "      <td>3420</td>\n",
              "      <td>10</td>\n",
              "      <td>1</td>\n",
              "      <td>1.7</td>\n",
              "      <td>0.5</td>\n",
              "      <td>0.4</td>\n",
              "      <td>1.1</td>\n",
              "      <td>0.1</td>\n",
              "      <td>0.6</td>\n",
              "      <td>1.1</td>\n",
              "      <td>0.263158</td>\n",
              "      <td>0.263158</td>\n",
              "      <td>2.1</td>\n",
              "      <td>1.6</td>\n",
              "      <td>1.8</td>\n",
              "      <td>0.1</td>\n",
              "      <td>2.7</td>\n",
              "      <td>1.3</td>\n",
              "      <td>0.5</td>\n",
              "      <td>1</td>\n",
              "      <td>42.3</td>\n",
              "      <td>75.5</td>\n",
              "      <td>-</td>\n",
              "      <td>2.2</td>\n",
              "    </tr>\n",
              "  </tbody>\n",
              "</table>\n",
              "</div>"
            ],
            "text/plain": [
              "            player Position  position key   Apps  ...  AvgP   PS% Crosses LongB\n",
              "0       Harry Kane       fw             1     35  ...  25.9  69.9     0.2   1.9\n",
              "1  Kevin De Bruyne       fw             1  23(2)  ...  50.6  81.7     1.6   2.6\n",
              "2    Jack Grealish        m             4  24(2)  ...  38.3  83.3     0.7   1.2\n",
              "3  Bruno Fernandes        m             4  35(2)  ...  57.1  78.3     1.1   3.8\n",
              "4     Tomas Soucek        m             4     38  ...  42.3  75.5       -   2.2\n",
              "\n",
              "[5 rows x 28 columns]"
            ]
          },
          "metadata": {
            "tags": []
          },
          "execution_count": 46
        }
      ]
    },
    {
      "cell_type": "code",
      "metadata": {
        "id": "ztS1Nb11WjQT",
        "colab": {
          "base_uri": "https://localhost:8080/",
          "height": 873
        },
        "outputId": "d5699bea-54d3-4099-d506-c907f719de95"
      },
      "source": [
        "df = df.replace('-',np.NaN) # replacing all instances of ' - ' with a NaN\n",
        "\n",
        "print('Number of instances = %d' % (df.shape[0])) \n",
        "print('Number of attributes = %d' % (df.shape[1]))\n",
        "\n",
        "print('Number of missing values:')\n",
        "for col in df.columns:\n",
        "    print('\\t%s: %d' % (col,df[col].isna().sum()))\n",
        "\n",
        "#finding all instances in the column that have missing values\n",
        "\n",
        "df.head()"
      ],
      "execution_count": 47,
      "outputs": [
        {
          "output_type": "stream",
          "text": [
            "Number of instances = 291\n",
            "Number of attributes = 28\n",
            "Number of missing values:\n",
            "\tplayer: 0\n",
            "\tPosition: 0\n",
            "\tposition key: 0\n",
            "\tApps: 0\n",
            "\tMins: 0\n",
            "\tGoals: 81\n",
            "\tAssists: 90\n",
            "\tSpG: 21\n",
            "\tKeyP: 19\n",
            "\tDrb: 22\n",
            "\tFouled: 1\n",
            "\tOff: 138\n",
            "\tDisp: 27\n",
            "\tUnsTch: 15\n",
            "\tGP90: 81\n",
            "\tAP90: 81\n",
            "\tTackles: 17\n",
            "\tInter: 17\n",
            "\tFouls: 17\n",
            "\tOffsides: 171\n",
            "\tClear: 8\n",
            "\tDrbP: 18\n",
            "\tBlocks: 89\n",
            "\tOwnG: 262\n",
            "\tAvgP: 0\n",
            "\tPS%: 0\n",
            "\tCrosses: 107\n",
            "\tLongB: 1\n"
          ],
          "name": "stdout"
        },
        {
          "output_type": "execute_result",
          "data": {
            "text/html": [
              "<div>\n",
              "<style scoped>\n",
              "    .dataframe tbody tr th:only-of-type {\n",
              "        vertical-align: middle;\n",
              "    }\n",
              "\n",
              "    .dataframe tbody tr th {\n",
              "        vertical-align: top;\n",
              "    }\n",
              "\n",
              "    .dataframe thead th {\n",
              "        text-align: right;\n",
              "    }\n",
              "</style>\n",
              "<table border=\"1\" class=\"dataframe\">\n",
              "  <thead>\n",
              "    <tr style=\"text-align: right;\">\n",
              "      <th></th>\n",
              "      <th>player</th>\n",
              "      <th>Position</th>\n",
              "      <th>position key</th>\n",
              "      <th>Apps</th>\n",
              "      <th>Mins</th>\n",
              "      <th>Goals</th>\n",
              "      <th>Assists</th>\n",
              "      <th>SpG</th>\n",
              "      <th>KeyP</th>\n",
              "      <th>Drb</th>\n",
              "      <th>Fouled</th>\n",
              "      <th>Off</th>\n",
              "      <th>Disp</th>\n",
              "      <th>UnsTch</th>\n",
              "      <th>GP90</th>\n",
              "      <th>AP90</th>\n",
              "      <th>Tackles</th>\n",
              "      <th>Inter</th>\n",
              "      <th>Fouls</th>\n",
              "      <th>Offsides</th>\n",
              "      <th>Clear</th>\n",
              "      <th>DrbP</th>\n",
              "      <th>Blocks</th>\n",
              "      <th>OwnG</th>\n",
              "      <th>AvgP</th>\n",
              "      <th>PS%</th>\n",
              "      <th>Crosses</th>\n",
              "      <th>LongB</th>\n",
              "    </tr>\n",
              "  </thead>\n",
              "  <tbody>\n",
              "    <tr>\n",
              "      <th>0</th>\n",
              "      <td>Harry Kane</td>\n",
              "      <td>fw</td>\n",
              "      <td>1</td>\n",
              "      <td>35</td>\n",
              "      <td>3087</td>\n",
              "      <td>23.0</td>\n",
              "      <td>14.0</td>\n",
              "      <td>3.9</td>\n",
              "      <td>1.4</td>\n",
              "      <td>1.5</td>\n",
              "      <td>1.7</td>\n",
              "      <td>0.4</td>\n",
              "      <td>1.5</td>\n",
              "      <td>1.8</td>\n",
              "      <td>0.670554</td>\n",
              "      <td>0.408163</td>\n",
              "      <td>0.6</td>\n",
              "      <td>0.3</td>\n",
              "      <td>0.7</td>\n",
              "      <td>NaN</td>\n",
              "      <td>1.1</td>\n",
              "      <td>0.5</td>\n",
              "      <td>0.3</td>\n",
              "      <td>NaN</td>\n",
              "      <td>25.9</td>\n",
              "      <td>69.9</td>\n",
              "      <td>0.2</td>\n",
              "      <td>1.9</td>\n",
              "    </tr>\n",
              "    <tr>\n",
              "      <th>1</th>\n",
              "      <td>Kevin De Bruyne</td>\n",
              "      <td>fw</td>\n",
              "      <td>1</td>\n",
              "      <td>23(2)</td>\n",
              "      <td>2001</td>\n",
              "      <td>6.0</td>\n",
              "      <td>12.0</td>\n",
              "      <td>3.2</td>\n",
              "      <td>3.2</td>\n",
              "      <td>1.9</td>\n",
              "      <td>1.2</td>\n",
              "      <td>NaN</td>\n",
              "      <td>1.3</td>\n",
              "      <td>1.8</td>\n",
              "      <td>0.269865</td>\n",
              "      <td>0.269865</td>\n",
              "      <td>1.4</td>\n",
              "      <td>0.4</td>\n",
              "      <td>1.1</td>\n",
              "      <td>NaN</td>\n",
              "      <td>0.3</td>\n",
              "      <td>1.4</td>\n",
              "      <td>NaN</td>\n",
              "      <td>NaN</td>\n",
              "      <td>50.6</td>\n",
              "      <td>81.7</td>\n",
              "      <td>1.6</td>\n",
              "      <td>2.6</td>\n",
              "    </tr>\n",
              "    <tr>\n",
              "      <th>2</th>\n",
              "      <td>Jack Grealish</td>\n",
              "      <td>m</td>\n",
              "      <td>4</td>\n",
              "      <td>24(2)</td>\n",
              "      <td>2184</td>\n",
              "      <td>6.0</td>\n",
              "      <td>10.0</td>\n",
              "      <td>1.9</td>\n",
              "      <td>3.1</td>\n",
              "      <td>2.5</td>\n",
              "      <td>4.2</td>\n",
              "      <td>0.3</td>\n",
              "      <td>1.5</td>\n",
              "      <td>2.1</td>\n",
              "      <td>0.247253</td>\n",
              "      <td>0.247253</td>\n",
              "      <td>1.2</td>\n",
              "      <td>0.5</td>\n",
              "      <td>1.5</td>\n",
              "      <td>NaN</td>\n",
              "      <td>0.2</td>\n",
              "      <td>0.3</td>\n",
              "      <td>0.1</td>\n",
              "      <td>NaN</td>\n",
              "      <td>38.3</td>\n",
              "      <td>83.3</td>\n",
              "      <td>0.7</td>\n",
              "      <td>1.2</td>\n",
              "    </tr>\n",
              "    <tr>\n",
              "      <th>3</th>\n",
              "      <td>Bruno Fernandes</td>\n",
              "      <td>m</td>\n",
              "      <td>4</td>\n",
              "      <td>35(2)</td>\n",
              "      <td>3110</td>\n",
              "      <td>18.0</td>\n",
              "      <td>12.0</td>\n",
              "      <td>3.3</td>\n",
              "      <td>2.6</td>\n",
              "      <td>0.6</td>\n",
              "      <td>1.4</td>\n",
              "      <td>0.1</td>\n",
              "      <td>1.0</td>\n",
              "      <td>1.5</td>\n",
              "      <td>0.520900</td>\n",
              "      <td>0.520900</td>\n",
              "      <td>1.5</td>\n",
              "      <td>0.7</td>\n",
              "      <td>1.2</td>\n",
              "      <td>NaN</td>\n",
              "      <td>0.7</td>\n",
              "      <td>2.0</td>\n",
              "      <td>NaN</td>\n",
              "      <td>NaN</td>\n",
              "      <td>57.1</td>\n",
              "      <td>78.3</td>\n",
              "      <td>1.1</td>\n",
              "      <td>3.8</td>\n",
              "    </tr>\n",
              "    <tr>\n",
              "      <th>4</th>\n",
              "      <td>Tomas Soucek</td>\n",
              "      <td>m</td>\n",
              "      <td>4</td>\n",
              "      <td>38</td>\n",
              "      <td>3420</td>\n",
              "      <td>10.0</td>\n",
              "      <td>1.0</td>\n",
              "      <td>1.7</td>\n",
              "      <td>0.5</td>\n",
              "      <td>0.4</td>\n",
              "      <td>1.1</td>\n",
              "      <td>0.1</td>\n",
              "      <td>0.6</td>\n",
              "      <td>1.1</td>\n",
              "      <td>0.263158</td>\n",
              "      <td>0.263158</td>\n",
              "      <td>2.1</td>\n",
              "      <td>1.6</td>\n",
              "      <td>1.8</td>\n",
              "      <td>0.1</td>\n",
              "      <td>2.7</td>\n",
              "      <td>1.3</td>\n",
              "      <td>0.5</td>\n",
              "      <td>1.0</td>\n",
              "      <td>42.3</td>\n",
              "      <td>75.5</td>\n",
              "      <td>NaN</td>\n",
              "      <td>2.2</td>\n",
              "    </tr>\n",
              "  </tbody>\n",
              "</table>\n",
              "</div>"
            ],
            "text/plain": [
              "            player Position  position key   Apps  ...  AvgP   PS%  Crosses  LongB\n",
              "0       Harry Kane       fw             1     35  ...  25.9  69.9      0.2    1.9\n",
              "1  Kevin De Bruyne       fw             1  23(2)  ...  50.6  81.7      1.6    2.6\n",
              "2    Jack Grealish        m             4  24(2)  ...  38.3  83.3      0.7    1.2\n",
              "3  Bruno Fernandes        m             4  35(2)  ...  57.1  78.3      1.1    3.8\n",
              "4     Tomas Soucek        m             4     38  ...  42.3  75.5      NaN    2.2\n",
              "\n",
              "[5 rows x 28 columns]"
            ]
          },
          "metadata": {
            "tags": []
          },
          "execution_count": 47
        }
      ]
    },
    {
      "cell_type": "code",
      "metadata": {
        "colab": {
          "base_uri": "https://localhost:8080/",
          "height": 416
        },
        "id": "DQ8jUOZc_i0E",
        "outputId": "d6be9b49-f68b-432b-d4ae-6d8c5d56dd31"
      },
      "source": [
        "df = df.fillna(0) # filling all missing values with 0\n",
        "\n",
        "df.head(7)\n"
      ],
      "execution_count": 66,
      "outputs": [
        {
          "output_type": "execute_result",
          "data": {
            "text/html": [
              "<div>\n",
              "<style scoped>\n",
              "    .dataframe tbody tr th:only-of-type {\n",
              "        vertical-align: middle;\n",
              "    }\n",
              "\n",
              "    .dataframe tbody tr th {\n",
              "        vertical-align: top;\n",
              "    }\n",
              "\n",
              "    .dataframe thead th {\n",
              "        text-align: right;\n",
              "    }\n",
              "</style>\n",
              "<table border=\"1\" class=\"dataframe\">\n",
              "  <thead>\n",
              "    <tr style=\"text-align: right;\">\n",
              "      <th></th>\n",
              "      <th>player</th>\n",
              "      <th>Position</th>\n",
              "      <th>position key</th>\n",
              "      <th>Apps</th>\n",
              "      <th>Mins</th>\n",
              "      <th>Goals</th>\n",
              "      <th>Assists</th>\n",
              "      <th>SpG</th>\n",
              "      <th>KeyP</th>\n",
              "      <th>Drb</th>\n",
              "      <th>Fouled</th>\n",
              "      <th>Off</th>\n",
              "      <th>Disp</th>\n",
              "      <th>UnsTch</th>\n",
              "      <th>GP90</th>\n",
              "      <th>AP90</th>\n",
              "      <th>Tackles</th>\n",
              "      <th>Inter</th>\n",
              "      <th>Fouls</th>\n",
              "      <th>Offsides</th>\n",
              "      <th>Clear</th>\n",
              "      <th>DrbP</th>\n",
              "      <th>Blocks</th>\n",
              "      <th>OwnG</th>\n",
              "      <th>AvgP</th>\n",
              "      <th>PS%</th>\n",
              "      <th>Crosses</th>\n",
              "      <th>LongB</th>\n",
              "    </tr>\n",
              "  </thead>\n",
              "  <tbody>\n",
              "    <tr>\n",
              "      <th>0</th>\n",
              "      <td>Harry Kane</td>\n",
              "      <td>fw</td>\n",
              "      <td>1</td>\n",
              "      <td>35</td>\n",
              "      <td>3087</td>\n",
              "      <td>23.0</td>\n",
              "      <td>14.0</td>\n",
              "      <td>3.9</td>\n",
              "      <td>1.4</td>\n",
              "      <td>1.5</td>\n",
              "      <td>1.7</td>\n",
              "      <td>0.4</td>\n",
              "      <td>1.5</td>\n",
              "      <td>1.8</td>\n",
              "      <td>0.670554</td>\n",
              "      <td>0.408163</td>\n",
              "      <td>0.6</td>\n",
              "      <td>0.3</td>\n",
              "      <td>0.7</td>\n",
              "      <td>0.0</td>\n",
              "      <td>1.1</td>\n",
              "      <td>0.5</td>\n",
              "      <td>0.3</td>\n",
              "      <td>0.0</td>\n",
              "      <td>25.9</td>\n",
              "      <td>69.9</td>\n",
              "      <td>0.2</td>\n",
              "      <td>1.9</td>\n",
              "    </tr>\n",
              "    <tr>\n",
              "      <th>1</th>\n",
              "      <td>Kevin De Bruyne</td>\n",
              "      <td>fw</td>\n",
              "      <td>1</td>\n",
              "      <td>23(2)</td>\n",
              "      <td>2001</td>\n",
              "      <td>6.0</td>\n",
              "      <td>12.0</td>\n",
              "      <td>3.2</td>\n",
              "      <td>3.2</td>\n",
              "      <td>1.9</td>\n",
              "      <td>1.2</td>\n",
              "      <td>0.0</td>\n",
              "      <td>1.3</td>\n",
              "      <td>1.8</td>\n",
              "      <td>0.269865</td>\n",
              "      <td>0.269865</td>\n",
              "      <td>1.4</td>\n",
              "      <td>0.4</td>\n",
              "      <td>1.1</td>\n",
              "      <td>0.0</td>\n",
              "      <td>0.3</td>\n",
              "      <td>1.4</td>\n",
              "      <td>0.0</td>\n",
              "      <td>0.0</td>\n",
              "      <td>50.6</td>\n",
              "      <td>81.7</td>\n",
              "      <td>1.6</td>\n",
              "      <td>2.6</td>\n",
              "    </tr>\n",
              "    <tr>\n",
              "      <th>2</th>\n",
              "      <td>Jack Grealish</td>\n",
              "      <td>m</td>\n",
              "      <td>4</td>\n",
              "      <td>24(2)</td>\n",
              "      <td>2184</td>\n",
              "      <td>6.0</td>\n",
              "      <td>10.0</td>\n",
              "      <td>1.9</td>\n",
              "      <td>3.1</td>\n",
              "      <td>2.5</td>\n",
              "      <td>4.2</td>\n",
              "      <td>0.3</td>\n",
              "      <td>1.5</td>\n",
              "      <td>2.1</td>\n",
              "      <td>0.247253</td>\n",
              "      <td>0.247253</td>\n",
              "      <td>1.2</td>\n",
              "      <td>0.5</td>\n",
              "      <td>1.5</td>\n",
              "      <td>0.0</td>\n",
              "      <td>0.2</td>\n",
              "      <td>0.3</td>\n",
              "      <td>0.1</td>\n",
              "      <td>0.0</td>\n",
              "      <td>38.3</td>\n",
              "      <td>83.3</td>\n",
              "      <td>0.7</td>\n",
              "      <td>1.2</td>\n",
              "    </tr>\n",
              "    <tr>\n",
              "      <th>3</th>\n",
              "      <td>Bruno Fernandes</td>\n",
              "      <td>m</td>\n",
              "      <td>4</td>\n",
              "      <td>35(2)</td>\n",
              "      <td>3110</td>\n",
              "      <td>18.0</td>\n",
              "      <td>12.0</td>\n",
              "      <td>3.3</td>\n",
              "      <td>2.6</td>\n",
              "      <td>0.6</td>\n",
              "      <td>1.4</td>\n",
              "      <td>0.1</td>\n",
              "      <td>1.0</td>\n",
              "      <td>1.5</td>\n",
              "      <td>0.520900</td>\n",
              "      <td>0.520900</td>\n",
              "      <td>1.5</td>\n",
              "      <td>0.7</td>\n",
              "      <td>1.2</td>\n",
              "      <td>0.0</td>\n",
              "      <td>0.7</td>\n",
              "      <td>2.0</td>\n",
              "      <td>0.0</td>\n",
              "      <td>0.0</td>\n",
              "      <td>57.1</td>\n",
              "      <td>78.3</td>\n",
              "      <td>1.1</td>\n",
              "      <td>3.8</td>\n",
              "    </tr>\n",
              "    <tr>\n",
              "      <th>4</th>\n",
              "      <td>Tomas Soucek</td>\n",
              "      <td>m</td>\n",
              "      <td>4</td>\n",
              "      <td>38</td>\n",
              "      <td>3420</td>\n",
              "      <td>10.0</td>\n",
              "      <td>1.0</td>\n",
              "      <td>1.7</td>\n",
              "      <td>0.5</td>\n",
              "      <td>0.4</td>\n",
              "      <td>1.1</td>\n",
              "      <td>0.1</td>\n",
              "      <td>0.6</td>\n",
              "      <td>1.1</td>\n",
              "      <td>0.263158</td>\n",
              "      <td>0.263158</td>\n",
              "      <td>2.1</td>\n",
              "      <td>1.6</td>\n",
              "      <td>1.8</td>\n",
              "      <td>0.1</td>\n",
              "      <td>2.7</td>\n",
              "      <td>1.3</td>\n",
              "      <td>0.5</td>\n",
              "      <td>1.0</td>\n",
              "      <td>42.3</td>\n",
              "      <td>75.5</td>\n",
              "      <td>0.0</td>\n",
              "      <td>2.2</td>\n",
              "    </tr>\n",
              "    <tr>\n",
              "      <th>5</th>\n",
              "      <td>Mason Mount</td>\n",
              "      <td>m</td>\n",
              "      <td>4</td>\n",
              "      <td>32(4)</td>\n",
              "      <td>2892</td>\n",
              "      <td>6.0</td>\n",
              "      <td>5.0</td>\n",
              "      <td>2.3</td>\n",
              "      <td>2.4</td>\n",
              "      <td>1.2</td>\n",
              "      <td>1.2</td>\n",
              "      <td>0.1</td>\n",
              "      <td>1.1</td>\n",
              "      <td>1.6</td>\n",
              "      <td>0.186722</td>\n",
              "      <td>0.186722</td>\n",
              "      <td>2.1</td>\n",
              "      <td>0.9</td>\n",
              "      <td>1.4</td>\n",
              "      <td>0.0</td>\n",
              "      <td>0.3</td>\n",
              "      <td>1.2</td>\n",
              "      <td>0.1</td>\n",
              "      <td>0.0</td>\n",
              "      <td>47.3</td>\n",
              "      <td>86.5</td>\n",
              "      <td>1.7</td>\n",
              "      <td>1.6</td>\n",
              "    </tr>\n",
              "    <tr>\n",
              "      <th>6</th>\n",
              "      <td>Sadio Mané</td>\n",
              "      <td>fw</td>\n",
              "      <td>1</td>\n",
              "      <td>31(4)</td>\n",
              "      <td>2813</td>\n",
              "      <td>11.0</td>\n",
              "      <td>7.0</td>\n",
              "      <td>2.7</td>\n",
              "      <td>1.7</td>\n",
              "      <td>2.3</td>\n",
              "      <td>2.2</td>\n",
              "      <td>0.9</td>\n",
              "      <td>1.7</td>\n",
              "      <td>2.9</td>\n",
              "      <td>0.351937</td>\n",
              "      <td>0.351937</td>\n",
              "      <td>1.4</td>\n",
              "      <td>0.4</td>\n",
              "      <td>1.5</td>\n",
              "      <td>0.0</td>\n",
              "      <td>0.3</td>\n",
              "      <td>0.6</td>\n",
              "      <td>0.0</td>\n",
              "      <td>0.0</td>\n",
              "      <td>28.8</td>\n",
              "      <td>78.7</td>\n",
              "      <td>0.3</td>\n",
              "      <td>0.8</td>\n",
              "    </tr>\n",
              "  </tbody>\n",
              "</table>\n",
              "</div>"
            ],
            "text/plain": [
              "            player Position  position key   Apps  ...  AvgP   PS%  Crosses  LongB\n",
              "0       Harry Kane       fw             1     35  ...  25.9  69.9      0.2    1.9\n",
              "1  Kevin De Bruyne       fw             1  23(2)  ...  50.6  81.7      1.6    2.6\n",
              "2    Jack Grealish        m             4  24(2)  ...  38.3  83.3      0.7    1.2\n",
              "3  Bruno Fernandes        m             4  35(2)  ...  57.1  78.3      1.1    3.8\n",
              "4     Tomas Soucek        m             4     38  ...  42.3  75.5      0.0    2.2\n",
              "5      Mason Mount        m             4  32(4)  ...  47.3  86.5      1.7    1.6\n",
              "6       Sadio Mané       fw             1  31(4)  ...  28.8  78.7      0.3    0.8\n",
              "\n",
              "[7 rows x 28 columns]"
            ]
          },
          "metadata": {
            "tags": []
          },
          "execution_count": 66
        }
      ]
    },
    {
      "cell_type": "markdown",
      "metadata": {
        "id": "WibNvQyPzHFB"
      },
      "source": [
        "# Principal component analysis (PCA)\n",
        "\n",
        "The next section is dedicated to reducing the high dimensionality data into a projection of 2 dimensions.\n",
        "\n"
      ]
    },
    {
      "cell_type": "code",
      "metadata": {
        "id": "rbpbDWBTbTRe",
        "colab": {
          "base_uri": "https://localhost:8080/",
          "height": 703
        },
        "outputId": "23ca4140-2991-4e6f-937c-4ca681c8ba93"
      },
      "source": [
        "#create features and target datasets\n",
        "\n",
        "\n",
        "\n",
        "data_features = [ 'Goals', 'Assists',\n",
        "                'SpG', 'KeyP', 'Drb', 'Fouled',\n",
        "                'Off', 'Disp', 'UnsTch','GP90','AP90','Tackles','Inter','Fouls','Offsides','DrbP','Blocks','OwnG','AvgP','PS%','Crosses','LongB']\n",
        "\n",
        "x = df[data_features].values\n",
        "y = df['position key'].values\n",
        "\n",
        "#Next we have to standardise the features otherwise the pca won't work\n",
        "\n",
        "\n",
        "\n",
        "x = SS().fit_transform(x)\n",
        "\n",
        "#Next we show a preview of x\n",
        "\n",
        "pd.DataFrame(data=x,columns=data_features).head()\n",
        "\n",
        "#now we aim to do our pca in 2 components\n",
        "\n",
        "pca = PCA(n_components = 2)\n",
        "\n",
        "#Next we fit our pca to our data features\n",
        "\n",
        "\n",
        "PC = pca.fit_transform(x)\n",
        "\n",
        "#Next we create a new data set for the PC\n",
        "\n",
        "new_data = pd.DataFrame(data=PC, columns = ['PC1','PC2'])\n",
        "\n",
        "Class = pd.Series(df['position key'], name='position key')\n",
        "\n",
        "result_df = pd.concat([new_data, Class], axis = 1)\n",
        "result_df.head()\n",
        "\n",
        "fig = plt.figure(figsize = (12,10))\n",
        "ax = fig.add_subplot(1,1,1) \n",
        "ax.set_xlabel('First Principal Component ', fontsize = 15)\n",
        "ax.set_ylabel('Second Principal Component ', fontsize = 15)\n",
        "ax.set_title('Principal Component Analysis (2PCs) Premier league players (20/21)', fontsize = 20)\n",
        "\n",
        "Classes = [1,2,3,4,5]\n",
        "colors = ['r', 'g','b','y','k']\n",
        "for Class, color in zip(Classes, colors):\n",
        "    indicesToKeep = df['position key'] == Class\n",
        "    ax.scatter(result_df.loc[indicesToKeep, 'PC1'], \n",
        "               result_df.loc[indicesToKeep, 'PC2'], \n",
        "               c = color, \n",
        "               s = 50)\n",
        "ax.legend(Classes)\n",
        "ax.grid()\n",
        "\n",
        "\n",
        "# Calculate the variance explained by priciple components\n",
        "print('Variance of each component:', pca.explained_variance_ratio_)\n",
        "print('\\n Total Variance Explained:', round(sum(list(pca.explained_variance_ratio_))*100, 2))\n",
        "\n",
        "print(Class)\n",
        "\n"
      ],
      "execution_count": 172,
      "outputs": [
        {
          "output_type": "stream",
          "text": [
            "Variance of each component: [0.35685236 0.17379862]\n",
            "\n",
            " Total Variance Explained: 53.07\n",
            "5\n"
          ],
          "name": "stdout"
        },
        {
          "output_type": "display_data",
          "data": {
            "image/png": "[encoded data removed]",
            "text/plain": [
              "<Figure size 864x720 with 1 Axes>"
            ]
          },
          "metadata": {
            "tags": [],
            "needs_background": "light"
          }
        }
      ]
    },
    {
      "cell_type": "markdown",
      "metadata": {
        "id": "MSie9C9rzyYM"
      },
      "source": [
        "# Kmeans clustering\n",
        "\n",
        "Now we train the clusters to the PCA of our dataset\n",
        "\n"
      ]
    },
    {
      "cell_type": "code",
      "metadata": {
        "id": "u0HjJaymH9hh"
      },
      "source": [
        "k_rng = range(1,20)\n",
        "sse = []\n",
        "for k in k_rng:\n",
        "  km = KMeans(n_clusters = k)\n",
        "  km.fit(result_df[['PC1','PC2']])\n",
        "  sse.append(km.inertia_)"
      ],
      "execution_count": 173,
      "outputs": []
    },
    {
      "cell_type": "code",
      "metadata": {
        "colab": {
          "base_uri": "https://localhost:8080/",
          "height": 297
        },
        "id": "2_lc_kd2IBzq",
        "outputId": "91b28f96-d119-4556-83d1-28a3b8e8300d"
      },
      "source": [
        "plt.xlabel('k')\n",
        "plt.ylabel('SSE')\n",
        "plt.plot(k_rng,sse)"
      ],
      "execution_count": 174,
      "outputs": [
        {
          "output_type": "execute_result",
          "data": {
            "text/plain": [
              "[<matplotlib.lines.Line2D at 0x7fd2476fea50>]"
            ]
          },
          "metadata": {
            "tags": []
          },
          "execution_count": 174
        },
        {
          "output_type": "display_data",
          "data": {
            "image/png": "[encoded data removed]",
            "text/plain": [
              "<Figure size 432x288 with 1 Axes>"
            ]
          },
          "metadata": {
            "tags": [],
            "needs_background": "light"
          }
        }
      ]
    },
    {
      "cell_type": "code",
      "metadata": {
        "id": "_yzy7gRr4UV0"
      },
      "source": [
        "km = KMeans(n_clusters = 5)\n"
      ],
      "execution_count": 175,
      "outputs": []
    },
    {
      "cell_type": "code",
      "metadata": {
        "id": "DM_VSqQu5L3y"
      },
      "source": [
        "y_predicted = km.fit_predict(result_df[['PC1','PC2']])\n",
        "result_df['cluster'] = y_predicted\n",
        "\n"
      ],
      "execution_count": 176,
      "outputs": []
    },
    {
      "cell_type": "code",
      "metadata": {
        "id": "Ai188BtC61OT"
      },
      "source": [
        "df1 = result_df[result_df.cluster == 0]\n",
        "df2 = result_df[result_df.cluster == 1]\n",
        "df3 = result_df[result_df.cluster == 2]\n",
        "df4 = result_df[result_df.cluster == 3]\n",
        "df5 = result_df[result_df.cluster == 4]\n",
        "\n",
        "\n"
      ],
      "execution_count": 177,
      "outputs": []
    },
    {
      "cell_type": "code",
      "metadata": {
        "colab": {
          "base_uri": "https://localhost:8080/",
          "height": 282
        },
        "id": "YVbFwaBrEiw9",
        "outputId": "a0cfc9a2-a750-4db7-bca7-4d1d84757f39"
      },
      "source": [
        "plt.scatter(df1['PC1'],df1['PC2'],color = 'green')\n",
        "plt.scatter(df2['PC1'],df2['PC2'],color = 'red')\n",
        "plt.scatter(df3['PC1'],df3['PC2'],color = 'black')\n",
        "plt.scatter(df4['PC1'],df4['PC2'],color = 'yellow')\n",
        "plt.scatter(df5['PC1'],df5['PC2'],color = 'magenta')\n"
      ],
      "execution_count": 178,
      "outputs": [
        {
          "output_type": "execute_result",
          "data": {
            "text/plain": [
              "<matplotlib.collections.PathCollection at 0x7fd247736c10>"
            ]
          },
          "metadata": {
            "tags": []
          },
          "execution_count": 178
        },
        {
          "output_type": "display_data",
          "data": {
            "image/png": "[encoded data removed]",
            "text/plain": [
              "<Figure size 432x288 with 1 Axes>"
            ]
          },
          "metadata": {
            "tags": [],
            "needs_background": "light"
          }
        }
      ]
    },
    {
      "cell_type": "code",
      "metadata": {
        "id": "Y97zs4QqhQGx"
      },
      "source": [
        "pt = [8.525626,\t-0.594199]\t\n",
        "df1a = df1[['PC1','PC2']].to_numpy()\n",
        "df2a = df2[['PC1','PC2']].to_numpy()\n",
        "df3a = df3[['PC1','PC2']].to_numpy()\n",
        "df4a = df4[['PC1','PC2']].to_numpy()\n",
        "df5a = df5[['PC1','PC2']].to_numpy()\n",
        "\n",
        "\n",
        "\n",
        "\n"
      ],
      "execution_count": 179,
      "outputs": []
    },
    {
      "cell_type": "code",
      "metadata": {
        "colab": {
          "base_uri": "https://localhost:8080/"
        },
        "id": "Ev_-CK3aP-fi",
        "outputId": "be7fc174-f68d-41ed-d9aa-fc25107fdecb"
      },
      "source": [
        "from sklearn.metrics import v_measure_score\n",
        "\n",
        "y = pd.to_numeric(df['position key'],downcast= 'float')\n",
        "\n",
        "\n",
        "\n",
        "\n",
        "\n",
        "print(v_measure_score(y_predicted, y))"
      ],
      "execution_count": 181,
      "outputs": [
        {
          "output_type": "stream",
          "text": [
            "0.45167284499772653\n"
          ],
          "name": "stdout"
        }
      ]
    },
    {
      "cell_type": "markdown",
      "metadata": {
        "id": "mcGrUo1CIJZn"
      },
      "source": [
        "# Test data\n",
        "\n",
        "In this section we now use the previously generated model to predict the clusters of the new data and return the closest point to the data within the clusters."
      ]
    },
    {
      "cell_type": "code",
      "metadata": {
        "colab": {
          "resources": {
            "http://localhost:8080/nbextensions/google.colab/files.js": {
              "data": "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",
              "ok": true,
              "headers": [
                [
                  "content-type",
                  "application/javascript"
                ]
              ],
              "status": 200,
              "status_text": ""
            }
          },
          "base_uri": "https://localhost:8080/",
          "height": 73
        },
        "id": "ttG9hBRnyJvu",
        "outputId": "135cbc78-6bd8-48b5-a6fe-ed0bf6e69d1b"
      },
      "source": [
        "from google.colab import files\n",
        "uploaded = files.upload()"
      ],
      "execution_count": 104,
      "outputs": [
        {
          "output_type": "display_data",
          "data": {
            "text/html": [
              "\n",
              "     <input type=\"file\" id=\"files-2de42140-a19a-479b-886a-190018ae9c57\" name=\"files[]\" multiple disabled\n",
              "        style=\"border:none\" />\n",
              "     <output id=\"result-2de42140-a19a-479b-886a-190018ae9c57\">\n",
              "      Upload widget is only available when the cell has been executed in the\n",
              "      current browser session. Please rerun this cell to enable.\n",
              "      </output>\n",
              "      <script src=\"/nbextensions/google.colab/files.js\"></script> "
            ],
            "text/plain": [
              "<IPython.core.display.HTML object>"
            ]
          },
          "metadata": {
            "tags": []
          }
        },
        {
          "output_type": "stream",
          "text": [
            "Saving test data.xlsx to test data.xlsx\n"
          ],
          "name": "stdout"
        }
      ]
    },
    {
      "cell_type": "code",
      "metadata": {
        "colab": {
          "base_uri": "https://localhost:8080/",
          "height": 305
        },
        "id": "vqWCDKudyUix",
        "outputId": "dc325dd8-937f-4c5d-d20c-93e5c40c7e48"
      },
      "source": [
        "tdf = 'Sheet2'\n",
        "tdf = pd.read_excel(io.BytesIO(uploaded['test data.xlsx']),tdf)\n",
        "tdf= tdf.drop('KeyP3',axis =1)\n",
        "tdf = tdf.replace('-',np.NaN)\n",
        "tdf = tdf.fillna(0)\n",
        "tdf.head()\n",
        "\n"
      ],
      "execution_count": 182,
      "outputs": [
        {
          "output_type": "execute_result",
          "data": {
            "text/html": [
              "<div>\n",
              "<style scoped>\n",
              "    .dataframe tbody tr th:only-of-type {\n",
              "        vertical-align: middle;\n",
              "    }\n",
              "\n",
              "    .dataframe tbody tr th {\n",
              "        vertical-align: top;\n",
              "    }\n",
              "\n",
              "    .dataframe thead th {\n",
              "        text-align: right;\n",
              "    }\n",
              "</style>\n",
              "<table border=\"1\" class=\"dataframe\">\n",
              "  <thead>\n",
              "    <tr style=\"text-align: right;\">\n",
              "      <th></th>\n",
              "      <th>player</th>\n",
              "      <th>position</th>\n",
              "      <th>position key</th>\n",
              "      <th>Apps</th>\n",
              "      <th>Mins</th>\n",
              "      <th>Goals</th>\n",
              "      <th>GP90</th>\n",
              "      <th>AP90</th>\n",
              "      <th>Assists</th>\n",
              "      <th>SpG</th>\n",
              "      <th>KeyP</th>\n",
              "      <th>Drb</th>\n",
              "      <th>Fouled</th>\n",
              "      <th>Off</th>\n",
              "      <th>Disp</th>\n",
              "      <th>UnsTch</th>\n",
              "      <th>Tackles</th>\n",
              "      <th>Inter</th>\n",
              "      <th>Fouls</th>\n",
              "      <th>Offsides</th>\n",
              "      <th>Clear</th>\n",
              "      <th>DrbP</th>\n",
              "      <th>Blocks</th>\n",
              "      <th>OwnG</th>\n",
              "      <th>AvgP</th>\n",
              "      <th>PS%</th>\n",
              "      <th>Crosses</th>\n",
              "      <th>LongB</th>\n",
              "      <th>ThrB</th>\n",
              "    </tr>\n",
              "  </thead>\n",
              "  <tbody>\n",
              "    <tr>\n",
              "      <th>0</th>\n",
              "      <td>Lionel Messi</td>\n",
              "      <td>fw</td>\n",
              "      <td>1</td>\n",
              "      <td>33(2)</td>\n",
              "      <td>3023</td>\n",
              "      <td>30.0</td>\n",
              "      <td>0.893152</td>\n",
              "      <td>0.267946</td>\n",
              "      <td>9.0</td>\n",
              "      <td>5.6</td>\n",
              "      <td>2.2</td>\n",
              "      <td>4.5</td>\n",
              "      <td>2.8</td>\n",
              "      <td>0.2</td>\n",
              "      <td>2.5</td>\n",
              "      <td>1.6</td>\n",
              "      <td>0.5</td>\n",
              "      <td>0.2</td>\n",
              "      <td>0.6</td>\n",
              "      <td>0.0</td>\n",
              "      <td>0.0</td>\n",
              "      <td>0.3</td>\n",
              "      <td>0.0</td>\n",
              "      <td>0.0</td>\n",
              "      <td>64.2</td>\n",
              "      <td>85.1</td>\n",
              "      <td>1.0</td>\n",
              "      <td>2.0</td>\n",
              "      <td>0.2</td>\n",
              "    </tr>\n",
              "    <tr>\n",
              "      <th>1</th>\n",
              "      <td>Gerard Moreno</td>\n",
              "      <td>fw</td>\n",
              "      <td>1</td>\n",
              "      <td>30(3)</td>\n",
              "      <td>2683</td>\n",
              "      <td>23.0</td>\n",
              "      <td>0.771524</td>\n",
              "      <td>0.234812</td>\n",
              "      <td>7.0</td>\n",
              "      <td>2.9</td>\n",
              "      <td>1.3</td>\n",
              "      <td>2.2</td>\n",
              "      <td>1.8</td>\n",
              "      <td>0.6</td>\n",
              "      <td>1.8</td>\n",
              "      <td>2.8</td>\n",
              "      <td>0.7</td>\n",
              "      <td>0.5</td>\n",
              "      <td>1.3</td>\n",
              "      <td>0.0</td>\n",
              "      <td>0.8</td>\n",
              "      <td>0.8</td>\n",
              "      <td>0.1</td>\n",
              "      <td>0.0</td>\n",
              "      <td>32.0</td>\n",
              "      <td>69.7</td>\n",
              "      <td>0.4</td>\n",
              "      <td>1.8</td>\n",
              "      <td>0.2</td>\n",
              "    </tr>\n",
              "    <tr>\n",
              "      <th>2</th>\n",
              "      <td>Karim Benzema</td>\n",
              "      <td>fw</td>\n",
              "      <td>1</td>\n",
              "      <td>33(1)</td>\n",
              "      <td>2902</td>\n",
              "      <td>23.0</td>\n",
              "      <td>0.713301</td>\n",
              "      <td>0.279118</td>\n",
              "      <td>9.0</td>\n",
              "      <td>3.6</td>\n",
              "      <td>1.1</td>\n",
              "      <td>1.1</td>\n",
              "      <td>0.7</td>\n",
              "      <td>0.7</td>\n",
              "      <td>1.1</td>\n",
              "      <td>1.7</td>\n",
              "      <td>0.2</td>\n",
              "      <td>0.2</td>\n",
              "      <td>0.5</td>\n",
              "      <td>0.0</td>\n",
              "      <td>0.7</td>\n",
              "      <td>0.3</td>\n",
              "      <td>0.1</td>\n",
              "      <td>0.0</td>\n",
              "      <td>35.6</td>\n",
              "      <td>84.6</td>\n",
              "      <td>0.1</td>\n",
              "      <td>1.3</td>\n",
              "      <td>0.1</td>\n",
              "    </tr>\n",
              "    <tr>\n",
              "      <th>3</th>\n",
              "      <td>Casemiro</td>\n",
              "      <td>m</td>\n",
              "      <td>4</td>\n",
              "      <td>32(2)</td>\n",
              "      <td>2903</td>\n",
              "      <td>6.0</td>\n",
              "      <td>0.186014</td>\n",
              "      <td>0.124010</td>\n",
              "      <td>4.0</td>\n",
              "      <td>1.4</td>\n",
              "      <td>0.7</td>\n",
              "      <td>0.4</td>\n",
              "      <td>1.6</td>\n",
              "      <td>0.1</td>\n",
              "      <td>0.8</td>\n",
              "      <td>0.9</td>\n",
              "      <td>2.5</td>\n",
              "      <td>2.1</td>\n",
              "      <td>1.6</td>\n",
              "      <td>0.1</td>\n",
              "      <td>1.6</td>\n",
              "      <td>1.2</td>\n",
              "      <td>0.5</td>\n",
              "      <td>0.0</td>\n",
              "      <td>56.8</td>\n",
              "      <td>83.9</td>\n",
              "      <td>0.1</td>\n",
              "      <td>4.4</td>\n",
              "      <td>0.0</td>\n",
              "    </tr>\n",
              "    <tr>\n",
              "      <th>4</th>\n",
              "      <td>Iago Aspas</td>\n",
              "      <td>fw</td>\n",
              "      <td>1</td>\n",
              "      <td>33</td>\n",
              "      <td>2871</td>\n",
              "      <td>14.0</td>\n",
              "      <td>0.438871</td>\n",
              "      <td>0.407524</td>\n",
              "      <td>13.0</td>\n",
              "      <td>1.5</td>\n",
              "      <td>1.9</td>\n",
              "      <td>1.8</td>\n",
              "      <td>1.6</td>\n",
              "      <td>0.4</td>\n",
              "      <td>0.8</td>\n",
              "      <td>1.7</td>\n",
              "      <td>0.3</td>\n",
              "      <td>0.5</td>\n",
              "      <td>0.7</td>\n",
              "      <td>0.0</td>\n",
              "      <td>0.6</td>\n",
              "      <td>0.6</td>\n",
              "      <td>0.1</td>\n",
              "      <td>0.0</td>\n",
              "      <td>37.1</td>\n",
              "      <td>78.8</td>\n",
              "      <td>0.2</td>\n",
              "      <td>1.5</td>\n",
              "      <td>0.2</td>\n",
              "    </tr>\n",
              "  </tbody>\n",
              "</table>\n",
              "</div>"
            ],
            "text/plain": [
              "          player position position key   Apps  Mins  Goals      GP90  \\\n",
              "0  Lionel Messi   fw       1            33(2)  3023  30.0   0.893152   \n",
              "1  Gerard Moreno  fw       1            30(3)  2683  23.0   0.771524   \n",
              "2  Karim Benzema  fw       1            33(1)  2902  23.0   0.713301   \n",
              "3  Casemiro       m        4            32(2)  2903  6.0    0.186014   \n",
              "4  Iago Aspas     fw       1            33     2871  14.0   0.438871   \n",
              "\n",
              "       AP90  Assists  SpG  KeyP  Drb  Fouled  Off  Disp  UnsTch  Tackles  \\\n",
              "0  0.267946  9.0      5.6  2.2   4.5  2.8     0.2  2.5   1.6     0.5       \n",
              "1  0.234812  7.0      2.9  1.3   2.2  1.8     0.6  1.8   2.8     0.7       \n",
              "2  0.279118  9.0      3.6  1.1   1.1  0.7     0.7  1.1   1.7     0.2       \n",
              "3  0.124010  4.0      1.4  0.7   0.4  1.6     0.1  0.8   0.9     2.5       \n",
              "4  0.407524  13.0     1.5  1.9   1.8  1.6     0.4  0.8   1.7     0.3       \n",
              "\n",
              "   Inter  Fouls  Offsides  Clear  DrbP  Blocks  OwnG  AvgP   PS%  Crosses  \\\n",
              "0  0.2    0.6    0.0       0.0    0.3   0.0     0.0   64.2  85.1  1.0       \n",
              "1  0.5    1.3    0.0       0.8    0.8   0.1     0.0   32.0  69.7  0.4       \n",
              "2  0.2    0.5    0.0       0.7    0.3   0.1     0.0   35.6  84.6  0.1       \n",
              "3  2.1    1.6    0.1       1.6    1.2   0.5     0.0   56.8  83.9  0.1       \n",
              "4  0.5    0.7    0.0       0.6    0.6   0.1     0.0   37.1  78.8  0.2       \n",
              "\n",
              "   LongB  ThrB  \n",
              "0  2.0    0.2   \n",
              "1  1.8    0.2   \n",
              "2  1.3    0.1   \n",
              "3  4.4    0.0   \n",
              "4  1.5    0.2   "
            ]
          },
          "metadata": {
            "tags": []
          },
          "execution_count": 182
        }
      ]
    },
    {
      "cell_type": "code",
      "metadata": {
        "colab": {
          "base_uri": "https://localhost:8080/",
          "height": 632
        },
        "id": "eVqoqaoE1MXo",
        "outputId": "3b02f700-de82-49da-af28-c3b4375d41c4"
      },
      "source": [
        "data_features = [ 'Goals', 'Assists',\n",
        "                'SpG', 'KeyP', 'Drb', 'Fouled',\n",
        "                'Off', 'Disp', 'UnsTch','GP90','AP90','Tackles','Inter','Fouls','Offsides','DrbP','Blocks','OwnG','AvgP','PS%','Crosses','LongB']\n",
        "\n",
        "x_test = tdf[data_features].values\n",
        "y_test = tdf['position key'].values\n",
        "\n",
        "x_test = SS().fit_transform(x_test)\n",
        "\n",
        "#pd.DataFrame(data=x_test,columns=data_features).head()\n",
        "\n",
        "pca = PCA(n_components = 2)\n",
        "\n",
        "\n",
        "PC = pca.fit_transform(x_test)\n",
        "\n",
        "new_data2 = pd.DataFrame(data=PC, columns = ['PC1','PC2'])\n",
        "\n",
        "Class2 = pd.Series(tdf['position key'], name='position key')\n",
        "\n",
        "result_tdf = pd.concat([new_data2, Class2], axis = 1)\n",
        "result_tdf.head()\n",
        "\n",
        "result_tdf = pd.concat([new_data2, Class2], axis = 1)\n",
        "result_df.head()\n",
        "\n",
        "fig = plt.figure(figsize = (12,10))\n",
        "ax = fig.add_subplot(1,1,1) \n",
        "ax.set_xlabel('First Principal Component ', fontsize = 15)\n",
        "ax.set_ylabel('Second Principal Component ', fontsize = 15)\n",
        "ax.set_title('Principal Component Analysis (2PCs) La Liga players (20/21)', fontsize = 20)\n",
        "\n",
        "Classes = [1,2,3,4,5]\n",
        "colors = ['r', 'g','b','y','k']\n",
        "for Class, color in zip(Classes, colors):\n",
        "    indicesToKeep = df['position key'] == Class\n",
        "    ax.scatter(result_tdf.loc[indicesToKeep, 'PC1'], \n",
        "               result_tdf.loc[indicesToKeep, 'PC2'], \n",
        "               c = color, \n",
        "               s = 50)\n",
        "ax.legend(Classes)\n",
        "ax.grid()\n"
      ],
      "execution_count": 187,
      "outputs": [
        {
          "output_type": "display_data",
          "data": {
            "image/png": "[encoded data removed]",
            "text/plain": [
              "<Figure size 864x720 with 1 Axes>"
            ]
          },
          "metadata": {
            "tags": [],
            "needs_background": "light"
          }
        }
      ]
    },
    {
      "cell_type": "code",
      "metadata": {
        "colab": {
          "base_uri": "https://localhost:8080/",
          "height": 202
        },
        "id": "8a5HAjUR2Y7f",
        "outputId": "7b36e1f4-6b09-481a-b620-198d51d5b31b"
      },
      "source": [
        "y_test_predicted = km.predict(result_tdf[['PC1','PC2']])\n",
        "result_tdf['cluster'] = y_test_predicted\n",
        "result_tdf.head()"
      ],
      "execution_count": 188,
      "outputs": [
        {
          "output_type": "execute_result",
          "data": {
            "text/html": [
              "<div>\n",
              "<style scoped>\n",
              "    .dataframe tbody tr th:only-of-type {\n",
              "        vertical-align: middle;\n",
              "    }\n",
              "\n",
              "    .dataframe tbody tr th {\n",
              "        vertical-align: top;\n",
              "    }\n",
              "\n",
              "    .dataframe thead th {\n",
              "        text-align: right;\n",
              "    }\n",
              "</style>\n",
              "<table border=\"1\" class=\"dataframe\">\n",
              "  <thead>\n",
              "    <tr style=\"text-align: right;\">\n",
              "      <th></th>\n",
              "      <th>PC1</th>\n",
              "      <th>PC2</th>\n",
              "      <th>position key</th>\n",
              "      <th>cluster</th>\n",
              "    </tr>\n",
              "  </thead>\n",
              "  <tbody>\n",
              "    <tr>\n",
              "      <th>0</th>\n",
              "      <td>8.525626</td>\n",
              "      <td>-0.594199</td>\n",
              "      <td>1</td>\n",
              "      <td>1</td>\n",
              "    </tr>\n",
              "    <tr>\n",
              "      <th>1</th>\n",
              "      <td>6.088632</td>\n",
              "      <td>1.262982</td>\n",
              "      <td>1</td>\n",
              "      <td>1</td>\n",
              "    </tr>\n",
              "    <tr>\n",
              "      <th>2</th>\n",
              "      <td>4.739404</td>\n",
              "      <td>2.582919</td>\n",
              "      <td>1</td>\n",
              "      <td>1</td>\n",
              "    </tr>\n",
              "    <tr>\n",
              "      <th>3</th>\n",
              "      <td>-1.192029</td>\n",
              "      <td>-2.197289</td>\n",
              "      <td>4</td>\n",
              "      <td>0</td>\n",
              "    </tr>\n",
              "    <tr>\n",
              "      <th>4</th>\n",
              "      <td>4.189880</td>\n",
              "      <td>-0.208331</td>\n",
              "      <td>1</td>\n",
              "      <td>1</td>\n",
              "    </tr>\n",
              "  </tbody>\n",
              "</table>\n",
              "</div>"
            ],
            "text/plain": [
              "        PC1       PC2 position key  cluster\n",
              "0  8.525626 -0.594199  1            1      \n",
              "1  6.088632  1.262982  1            1      \n",
              "2  4.739404  2.582919  1            1      \n",
              "3 -1.192029 -2.197289  4            0      \n",
              "4  4.189880 -0.208331  1            1      "
            ]
          },
          "metadata": {
            "tags": []
          },
          "execution_count": 188
        }
      ]
    },
    {
      "cell_type": "code",
      "metadata": {
        "colab": {
          "base_uri": "https://localhost:8080/",
          "height": 282
        },
        "id": "lO_H5Yev4k3m",
        "outputId": "2c977d67-d459-4a6b-96fa-b1611d08960c"
      },
      "source": [
        "tdf1 = result_tdf[result_tdf.cluster == 0]\n",
        "tdf2 = result_tdf[result_tdf.cluster == 1]\n",
        "tdf3 = result_tdf[result_tdf.cluster == 2]\n",
        "tdf4 = result_tdf[result_tdf.cluster == 3]\n",
        "tdf5 = result_tdf[result_tdf.cluster == 4]\n",
        "\n",
        "plt.scatter(tdf1['PC1'],tdf1['PC2'],color = 'green')\n",
        "plt.scatter(tdf2['PC1'],tdf2['PC2'],color = 'red')\n",
        "plt.scatter(tdf3['PC1'],tdf3['PC2'],color = 'black')\n",
        "plt.scatter(tdf4['PC1'],tdf4['PC2'],color = 'yellow')\n",
        "plt.scatter(tdf5['PC1'],tdf5['PC2'],color = 'magenta')\n"
      ],
      "execution_count": 189,
      "outputs": [
        {
          "output_type": "execute_result",
          "data": {
            "text/plain": [
              "<matplotlib.collections.PathCollection at 0x7fd2446d2190>"
            ]
          },
          "metadata": {
            "tags": []
          },
          "execution_count": 189
        },
        {
          "output_type": "display_data",
          "data": {
            "image/png": "[encoded data removed]",
            "text/plain": [
              "<Figure size 432x288 with 1 Axes>"
            ]
          },
          "metadata": {
            "tags": [],
            "needs_background": "light"
          }
        }
      ]
    },
    {
      "cell_type": "markdown",
      "metadata": {
        "id": "9oBGgWrsiOSN"
      },
      "source": [
        "## Evaluation\n",
        "\n",
        "Lastly, we now use a k-nearest neighbours approach to find the nearest neighbours to a given player. Given the datapoint, we aim to find the 5 closest players in our dataset. Furthermore, given a specific cluster, we can also find the closest k datapoints within this cluster."
      ]
    },
    {
      "cell_type": "code",
      "metadata": {
        "id": "e-QBCzNohUro"
      },
      "source": [
        "\n",
        "\n",
        "from math import sqrt\n",
        " \n",
        "# calculate the Euclidean distance between two vectors\n",
        "def euclidean_distance(row1, row2):\n",
        "\tdistance = 0.0\n",
        "\tfor i in range(len(row1)-1):\n",
        "\t\tdistance += (row1[i] - row2[i])**2\n",
        "\treturn sqrt(distance)\n",
        " \n",
        "# Locate the most similar neighbors\n",
        "def get_neighbors(target_row, test_row, num_neighbors):\n",
        "\tdistances = list()\n",
        "\tfor target in target_row:\n",
        "\t\tdist = euclidean_distance(test_row, target)\n",
        "\t\tdistances.append((target, dist))\n",
        "\tdistances.sort(key=lambda tup: tup[1])\n",
        "\tneighbors = list()\n",
        "\tfor i in range(num_neighbors):\n",
        "\t\tneighbors.append(distances[i][0])\n",
        "\treturn neighbors\n"
      ],
      "execution_count": 129,
      "outputs": []
    },
    {
      "cell_type": "code",
      "metadata": {
        "id": "TSx-Or7Khb-i"
      },
      "source": [
        "result_df_array = result_df[['PC1','PC2']].to_numpy()\n",
        "result_tdf_array = result_tdf[['PC1','PC2']].to_numpy()\n",
        "\n",
        "neighbors = get_neighbors(result_df_array, result_df_array[0], 6)\n",
        "for neighbor in neighbors:\n",
        "\tprint(neighbor)\n",
        " \n",
        "# This result will find the five most similar players to Harry Kane in the premier league"
      ],
      "execution_count": null,
      "outputs": []
    },
    {
      "cell_type": "code",
      "metadata": {
        "id": "NwApNqeji2wc"
      },
      "source": [
        "neighbors = get_neighbors(df1a, df1a[0], 6)\n",
        "for neighbor in neighbors:\n",
        "\tprint(neighbor)\n",
        " \n",
        " # This result will find the five most similar players to Harry Kane in the premier league within the cluster."
      ],
      "execution_count": null,
      "outputs": []
    },
    {
      "cell_type": "code",
      "metadata": {
        "id": "3v3nMXt8jD4Y"
      },
      "source": [
        "neighbors = get_neighbors(result_df_array, result_tdf_array[0], 5)\n",
        "for neighbor in neighbors:\n",
        "\tprint(neighbor)\n",
        " \n",
        " #This will find the five cloest players to Lionel messi within the premier league"
      ],
      "execution_count": null,
      "outputs": []
    },
    {
      "cell_type": "code",
      "metadata": {
        "id": "G-W_8yl_jQbr"
      },
      "source": [
        "neighbors = get_neighbors(result_tdf_array, result_df_array[0], 5)\n",
        "for neighbor in neighbors:\n",
        "\tprint(neighbor)\n",
        " \n",
        " #This will find the five closest players to Harry Kane in La liga"
      ],
      "execution_count": null,
      "outputs": []
    },
    {
      "cell_type": "code",
      "metadata": {
        "id": "sWbJtyCyuMFW"
      },
      "source": [
        "neighbors = get_neighbors(result_tdf_array, result_tdf_array[0], 6)\n",
        "for neighbor in neighbors:\n",
        "\tprint(neighbor)\n",
        " \n",
        " #This will find the five cloest players to Lionel messi within the La Liga\n",
        " "
      ],
      "execution_count": null,
      "outputs": []
    },
    {
      "cell_type": "code",
      "metadata": {
        "colab": {
          "base_uri": "https://localhost:8080/"
        },
        "id": "Vf55A4decZuy",
        "outputId": "1fe2c89c-b758-4b28-bc23-8e8f862ff24a"
      },
      "source": [
        "neighbors = get_neighbors(df3a, df3a[0], 6)\n",
        "for neighbor in neighbors:\n",
        "\tprint(neighbor)\n",
        "  #This will find the five cloest players to Tomas Souceck within the cluster"
      ],
      "execution_count": 167,
      "outputs": [
        {
          "output_type": "stream",
          "text": [
            "[ 0.30812732 -1.76176971]\n",
            "[ 0.24042513 -3.6910717 ]\n",
            "[ 0.23472734 -2.29170486]\n",
            "[ 0.43964573 -2.4782793 ]\n",
            "[ 0.12772515 -2.46286701]\n",
            "[ 0.11850154 -2.49096975]\n"
          ],
          "name": "stdout"
        }
      ]
    },
    {
      "cell_type": "code",
      "metadata": {
        "colab": {
          "base_uri": "https://localhost:8080/"
        },
        "id": "g0hGaqH2cqMb",
        "outputId": "9b434954-766a-4c8e-bae7-1df482eb9a9d"
      },
      "source": [
        "neighbors = get_neighbors(result_df_array, df3a[0], 6)\n",
        "for neighbor in neighbors:\n",
        "\tprint(neighbor)\n",
        " #This will find the five cloest players to Tomas Souceck within the premier league"
      ],
      "execution_count": 169,
      "outputs": [
        {
          "output_type": "stream",
          "text": [
            "[ 0.30812732 -1.76176971]\n",
            "[0.36657724 1.96115416]\n",
            "[ 0.36722621 -0.17051847]\n",
            "[ 0.24628523 -0.4507133 ]\n",
            "[ 0.24042513 -3.6910717 ]\n",
            "[ 0.23983518 -0.011215  ]\n"
          ],
          "name": "stdout"
        }
      ]
    }
  ]
}